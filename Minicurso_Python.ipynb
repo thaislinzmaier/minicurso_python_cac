{
  "nbformat": 4,
  "nbformat_minor": 0,
  "metadata": {
    "colab": {
      "provenance": [],
      "authorship_tag": "ABX9TyNLVOWYI8naALJnp2wTuGuK",
      "include_colab_link": true
    },
    "kernelspec": {
      "name": "python3",
      "display_name": "Python 3"
    },
    "language_info": {
      "name": "python"
    }
  },
  "cells": [
    {
      "cell_type": "markdown",
      "metadata": {
        "id": "view-in-github",
        "colab_type": "text"
      },
      "source": [
        "<a href=\"https://colab.research.google.com/github/thaislinzmaier/minicurso_python_cac/blob/main/Minicurso_Python.ipynb\" target=\"_parent\"><img src=\"https://colab.research.google.com/assets/colab-badge.svg\" alt=\"Open In Colab\"/></a>"
      ]
    },
    {
      "cell_type": "markdown",
      "source": [
        "# Python Orientado a Objetos\n",
        "Ministrante: Thaís Linzmaier\n",
        "\n",
        "1º CAC - Conferência Acadêmica de Computação\n",
        "\n",
        "Universidade de Caxias do Sul\n",
        "\n",
        "Setembro 2022\n",
        "\n"
      ],
      "metadata": {
        "id": "k5o2e7-FQWk7"
      }
    },
    {
      "cell_type": "markdown",
      "source": [
        "# Introdução\n",
        "##O que é orientação a objetos?\n",
        "\n",
        "Uma forma simples de ilustrar o modelo de orientação à objetos é comparando-o ao modelo procedural\n",
        "\n",
        "\n",
        "POO (Programação Orientada a Objetos)\n",
        "- Modelo de programação organizado em dados (objetos);\n",
        "- Conceitualmente, utiliza a abordagem *bottom-up*, a qual consiste em partes pequenas e detalhadas do sistema serem desenvolvidas primeiro para depois serem agregadas em um componente maior;\n",
        "- Quanto à segurança, a POO possui tipos de classes privadas, públicas, protegidas, etc. Sendo possível a definição de quais dados serão disponibilizados para o usuário, por exemplo;\n",
        "- Focada em programas grandes e complexos;\n",
        "- Possui reusabilidade de código.\n",
        "\n",
        "Programação Procedural\n",
        "- Modelo de programação organizado em funções\n",
        "- Conceitualmente, utiliza a abordagem *top-down*, a qual consiste em o sistema ser elaborado e desenvolvido por inteiro e depois ser dividido em etapas menores com desenvolvimento de detalhes;\n",
        "- Não possui diferenciação de disponibilização de dados;\n",
        "- Focada em programas menores e mais simples;\n",
        "- Não possui reusabilidade de código.\n"
      ],
      "metadata": {
        "id": "W3yvAU3kOcqh"
      }
    },
    {
      "cell_type": "markdown",
      "source": [
        "#POO em Python\n",
        "\n",
        "## O que são objetos?\n",
        "Um objeto é uma estrutura que contém dados(variáveis, chamadas de atributos) e código(funções, chamadas de métodos). Um objeto define o que é \"a coisa\" e seus métodos definem como ele interage com as outras \"coisas\".\n",
        "\n",
        "## Objetos simples\n",
        "### Classes\n",
        "Uma classe é uma coleção de objetos. Dentro dela ficam os atributos e os métodos dos objetos.\n",
        "\n",
        "\n",
        "```\n",
        "class Livro: ## isto é uma classe que engloba o objeto Livro\n",
        "      def __init__(self, titulo, autor): \n",
        "          self.titulo = titulo\n",
        "          self.autor = autor\n",
        "      def get_titulo(self):\n",
        "        return self.titulo \n",
        "```\n",
        "### Atributos\n",
        "\n",
        "Os atributos são variáveis dentro de uma classe ou de um objeto\n",
        "\n",
        "```\n",
        "class Livro:\n",
        "      def __init__(self, titulo, autor): \n",
        "          self.titulo = titulo ## isto é um atributo do objeto Livro\n",
        "          self.autor = autor\n",
        "      def get_titulo(self):\n",
        "        return self.titulo \n",
        "```\n",
        " ### Métodos\n",
        "\n",
        " Os métodos são funções em uma classe ou objeto.\n",
        "\n",
        "```\n",
        " class Livro:\n",
        "      def __init__(self, titulo, autor): \n",
        "          self.titulo = titulo \n",
        "          self.autor = autor\n",
        "      def get_titulo(self): ## isto é um método para retornar o título do livro\n",
        "        return self.titulo \n",
        "```\n",
        "\n",
        "O método \"____ init ____\" é um método do Python utilizado para inicializar um objeto. Ou seja, adicionar atributos ao objeto no momento de sua criação. Algo particular também é o argumento **self**, utilizado para referenciar que os atributos que estão sendo inseridos são mesmo daquele objeto que está sendo criado."
      ],
      "metadata": {
        "id": "z_iWkhG_OWY8"
      }
    },
    {
      "cell_type": "markdown",
      "source": [
        "# Herança (Inheritance)\n",
        "\n",
        "Muitas vezes durante a criação de um programa nos deparamos com uma classe que faz praticamente tudo o que é preciso. Para utilizá-la, você tem algumas opções:\n",
        "Você pode copiá-la e modificar o que precisa, gerando repetição de código e mais complicações de manutenção. Você pode modificar aquela primeira classe para fazer o que foi requisitado, correndo o perigo de quebrar algo que já estava funcionando. Ou, você pode fazer uma nova classe que herda os atributos da classe antiga e acrescentar as modificações necessárias, sem a ocorrência de repetição ou quebra de código.\n",
        "Esta última solução se chama herança.\n",
        "Por exemplo, em um sistema temos os usuários e os administradores que devem realizar seus cadastros. Os dois possuem nome, idade, documento, usuário e senha. Porém, os administradores possuem um código especial que os deixa acessar o programa. Ao invés de criarmos duas classes praticamente iguais, criamos a classe Pessoa e herdamos dela os atributos em comum.\n",
        "\n"
      ],
      "metadata": {
        "id": "KCOIfawTZ-EE"
      }
    },
    {
      "cell_type": "code",
      "source": [
        "class Pessoa:\n",
        "  def __init__(self,nome,idade,documento,usuario,senha):\n",
        "    self.nome = nome\n",
        "    self.idade = idade\n",
        "    self.documento = documento\n",
        "    self.usuario = usuario\n",
        "    self.senha = senha\n",
        "\n",
        "class Usuario(Pessoa):\n",
        "  def __init__(self, nome, idade, documento, usuario, senha):\n",
        "    super().__init__(nome,idade, documento, usuario, senha)\n",
        "\n",
        "class Administrador(Pessoa):\n",
        "  def __init__(self, nome, idade, documento, usuario, senha, codigo):\n",
        "    super().__init__(nome,idade, documento, usuario, senha)\n",
        "    self.codigo = codigo\n",
        "  \n",
        "usuario = Usuario(\"Thaís\", \"22\", \"123456\", \"tmlinzmaier\", \"senha\")\n",
        "adm = Administrador(\"Luíza\", \"17\", \"78910\", \"lmlinzmaier\", \"senha\", \"codigo_teste\")\n",
        "\n",
        "print(usuario)\n",
        "print(adm)\n"
      ],
      "metadata": {
        "colab": {
          "base_uri": "https://localhost:8080/"
        },
        "id": "HBLx8F_BOVsg",
        "outputId": "3791cc4f-51f7-46e6-d7a8-6e0416f7e9aa"
      },
      "execution_count": null,
      "outputs": [
        {
          "output_type": "stream",
          "name": "stdout",
          "text": [
            "<__main__.Usuario object at 0x7fe83acf4490>\n",
            "<__main__.Administrador object at 0x7fe83acf4510>\n"
          ]
        }
      ]
    },
    {
      "cell_type": "markdown",
      "source": [
        "#Tipos de herança\n",
        "\n",
        "Herança simples\n",
        "\n",
        "Quando uma classe filha herda de apenas uma classe pai\n",
        "\n",
        "Herança múltipla\n",
        "\n",
        "Quando uma classe filha herda de várias classes pai\n",
        "\n",
        "Herança multinível\n",
        "\n",
        "quando temos um relacionamento de classes filha e neta\n",
        "\n",
        "```\n",
        "class Pessoa:\n",
        "  def __init__(self):\n",
        "    pass\n",
        "\n",
        "# Herança simples\n",
        "class Funcionário(Pessoa):\n",
        "  def __init__(self):\n",
        "    pass\n",
        "\n",
        "# Herança multinível\n",
        "\n",
        "class Gerente(Funcionário):\n",
        "  def __init__(self):\n",
        "    pass\n",
        "\n",
        "# Herança múltipla\n",
        "class Empreendedor(Pessoa, Funcionário):\n",
        "  def __init__(self):\n",
        "    pass\n",
        "```\n",
        "\n",
        "\n",
        "\n",
        "Herança hierárquica\n",
        "\n",
        "Mais de uma classe derivada é criada a partir de uma única classe base\n",
        "\n",
        "Herança híbrida\n",
        "\n",
        "Combina mais de uma forma de herança\n",
        "\n",
        "\n"
      ],
      "metadata": {
        "id": "2ZQSRTmNf5Tv"
      }
    },
    {
      "cell_type": "markdown",
      "source": [
        "#Atributos privados (Encapsulamento)\n",
        "\n",
        "Em Python, quando queremos que um atributo não seja herdado pelas classes seguintes, declaramos assim: __atributo\n",
        "\n"
      ],
      "metadata": {
        "id": "2PobOqxnImxN"
      }
    },
    {
      "cell_type": "code",
      "source": [
        "class Pessoa(object):\n",
        "       def __init__(self):\n",
        "              self.idade = 21\n",
        "              self.__rg = 4265789\n",
        "                 \n",
        "class Funcionario(Pessoa):\n",
        "       def __init__(self):\n",
        "              self.idFuncionario = 847648\n",
        "\n",
        "objeto1 = Funcionario()\n",
        " \n",
        "print(objeto1.rg)   "
      ],
      "metadata": {
        "colab": {
          "base_uri": "https://localhost:8080/",
          "height": 205
        },
        "id": "_D1KXqhYIvfJ",
        "outputId": "c0fb2890-1d61-4a93-8862-5f77506e71f5"
      },
      "execution_count": 8,
      "outputs": [
        {
          "output_type": "error",
          "ename": "AttributeError",
          "evalue": "ignored",
          "traceback": [
            "\u001b[0;31m---------------------------------------------------------------------------\u001b[0m",
            "\u001b[0;31mAttributeError\u001b[0m                            Traceback (most recent call last)",
            "\u001b[0;32m<ipython-input-8-310f81c37b85>\u001b[0m in \u001b[0;36m<module>\u001b[0;34m\u001b[0m\n\u001b[1;32m     10\u001b[0m \u001b[0mobjeto1\u001b[0m \u001b[0;34m=\u001b[0m \u001b[0mFuncionario\u001b[0m\u001b[0;34m(\u001b[0m\u001b[0;34m)\u001b[0m\u001b[0;34m\u001b[0m\u001b[0;34m\u001b[0m\u001b[0m\n\u001b[1;32m     11\u001b[0m \u001b[0;34m\u001b[0m\u001b[0m\n\u001b[0;32m---> 12\u001b[0;31m \u001b[0mprint\u001b[0m\u001b[0;34m(\u001b[0m\u001b[0mobjeto1\u001b[0m\u001b[0;34m.\u001b[0m\u001b[0mrg\u001b[0m\u001b[0;34m)\u001b[0m\u001b[0;34m\u001b[0m\u001b[0;34m\u001b[0m\u001b[0m\n\u001b[0m",
            "\u001b[0;31mAttributeError\u001b[0m: 'Funcionario' object has no attribute 'rg'"
          ]
        }
      ]
    },
    {
      "cell_type": "markdown",
      "source": [
        "# Polimorfismo\n",
        "\n",
        "O polimorfismo é um conceito onde uma função pode assumir diversas formas dependendo da sua classe ou objeto.\n",
        "\n",
        "```\n",
        "class Pessoa:\n",
        "    def __init__(self, nome, idade):\n",
        "        self.nome = nome\n",
        "        self.idade = idade\n",
        "    def mostra_salario(self):\n",
        "        print(\"Não é possível mostrar o salário\")\n",
        "\n",
        "class Funcionario(Pessoa):\n",
        "    def __init__(self, nome, idade, salario):\n",
        "        super().__init__(nome, idade)\n",
        "        self.salario = salario\n",
        "    def mostra_salario(self):\n",
        "        print(\"Salário:\", self.salario)\n",
        "\n",
        "if __name__ == \"__main__\":\n",
        "    p = Pessoa(\"y\", 23)\n",
        "    x = Funcionario(\"x\", 20, 100000)\n",
        "    p.mostra_salario() # Não é possível mostrar o salário\n",
        "    x.mostra_salario() # Salário 100000\n",
        "```\n",
        "\n"
      ],
      "metadata": {
        "id": "YCeg5YXnf8D9"
      }
    },
    {
      "cell_type": "markdown",
      "source": [
        "#Agora é sua vez!\n",
        "\n",
        "Utilize este documento para desenvolver os seguintes programas:\n",
        "\n",
        "1. Programa de gerenciamento de conta\n",
        "\n",
        "Classe a ser implementada: \n",
        "\n",
        "Conta(nome, saldo, numero_conta)\n",
        "\n",
        "Métodos: __init__, depositar, sacar, get_saldo\n",
        "\n",
        "Dica: inicialize o saldo em 0 no método de inicialização da conta\n",
        "\n",
        "2. Programa de cadastro de estudantes e anos de formatura\n",
        "\n",
        "Classes a serem implementadas:\n",
        "\n",
        "Pessoa(nome, sobrenome, endereço)\n",
        "\n",
        "Métodos: __init__, mostra_dados(mostra nome, sobrenome e endereço)\n",
        "\n",
        "Aluno(herda de pessoa, idade, ano_graduacao)\n",
        "\n",
        "Métodos: __init__, mostra_dados(dados herdados de pessoa, idade e ano_graduacao)\n",
        "\n",
        "3. Incremente qualquer um dos programas acima com classes e métodos de sua escolha.\n",
        "\n",
        "4. Desafio!\n",
        "Pesquise e incremente nos seus programas Composição e Agregação em Python.\n",
        "\n"
      ],
      "metadata": {
        "id": "SGb7ooQ9JnT6"
      }
    },
    {
      "cell_type": "code",
      "source": [
        "class Conta(): \n",
        "\n",
        "    def __init__(self, nome, numero_conta, saldo = 0):\n",
        "        self.nome = nome\n",
        "        self.saldo = saldo\n",
        "        self.numero_conta = numero_conta\n",
        "\n",
        "    def depositar(self, quantia):\n",
        "        self.saldo += quantia\n",
        "\n",
        "    def sacar(self, quantia):\n",
        "        if self.saldo < quantia:\n",
        "            print('Sem saldo suficiente!')\n",
        "        else:\n",
        "            self.saldo -= quantia\n",
        "\n",
        "    def get_saldo(self):\n",
        "        return self.saldo\n",
        "\n",
        "if __name__ == '__main__':\n",
        "    banco = Conta('Thaís', 1000)\n",
        "    banco.depositar(1000)\n",
        "    print(banco.get_saldo())\n",
        "    banco.depositar(500)\n",
        "    print(banco.get_saldo())"
      ],
      "metadata": {
        "colab": {
          "base_uri": "https://localhost:8080/"
        },
        "id": "mNednSlALsfo",
        "outputId": "3731ff04-0271-48b0-8ff1-5cca8596c578"
      },
      "execution_count": 12,
      "outputs": [
        {
          "output_type": "stream",
          "name": "stdout",
          "text": [
            "1000\n",
            "1500\n"
          ]
        }
      ]
    }
  ]
}